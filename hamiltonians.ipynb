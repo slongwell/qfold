{
 "cells": [
  {
   "cell_type": "markdown",
   "metadata": {},
   "source": [
    "This notebook is converted into a module with the following command:   \n",
    "`jupyter nbconvert --to script hamiltonians.ipynb`"
   ]
  },
  {
   "cell_type": "markdown",
   "metadata": {},
   "source": [
    "# General"
   ]
  },
  {
   "cell_type": "code",
   "execution_count": 1,
   "metadata": {},
   "outputs": [],
   "source": [
    "import numpy as np\n",
    "from pyquil.paulis import sI, sX, sY, sZ\n",
    "\n",
    "global N\n",
    "global D\n",
    "global n\n",
    "global q\n",
    "\n",
    "# setter for global variables\n",
    "def init_ham(N_,D_):\n",
    "    global N\n",
    "    global D\n",
    "    global n\n",
    "    global q\n",
    "    N = N_\n",
    "    D = D_\n",
    "    if D_ == 2:\n",
    "        n = 4*N_-10\n",
    "        q = [sZ(x) for x in range(n)]\n",
    "        \n",
    "# inclusive range (for sums, products)\n",
    "def inc(start,stop):\n",
    "    return range(int(start),int(stop+1))"
   ]
  },
  {
   "cell_type": "markdown",
   "metadata": {},
   "source": [
    "$\\begin{array}{rl}\n",
    "N & \\text{# residues in protein}\\\\\n",
    "n & \\text{# qubits}\\\\\n",
    "D & \\text{# dimensions}\\\\\n",
    "\\end{array}$\n",
    "\n",
    "0-indexed, start inclusive, stop exclusive:\n",
    "\n",
    "$\\begin{array}{rl}\n",
    "i,i' \\in [0,N)  & \\text{protein residue indices}\\\\\n",
    "j,j' \\in [0,n) & \\text{qubit indices}\\\\\n",
    "k,k' \\in [0,2D) & \\text{direction indices}\\\\\n",
    "t \\in [0,N-1)    & \\text{turn index}\\\\\n",
    "\\end{array}$\n",
    "\n",
    "$\\begin{array}{rl}\n",
    "P_{i,i'} & \\text{contact energy between adjacent residues $i$ and $i'$}\n",
    "\\end{array}$"
   ]
  },
  {
   "cell_type": "code",
   "execution_count": 22,
   "metadata": {},
   "outputs": [],
   "source": [
    "def AND(x,y):\n",
    "    return x*y"
   ]
  },
  {
   "cell_type": "markdown",
   "metadata": {},
   "source": [
    "$\\texttt{AND}(x,y) = xy$   "
   ]
  },
  {
   "cell_type": "code",
   "execution_count": 25,
   "metadata": {},
   "outputs": [],
   "source": [
    "def XNOR(x,y):\n",
    "    global q\n",
    "    return 1 - x - y + 2*x*y"
   ]
  },
  {
   "cell_type": "markdown",
   "metadata": {},
   "source": [
    "$\\texttt{XNOR}(x,y) = 1 -x - y + 2xy$"
   ]
  },
  {
   "cell_type": "code",
   "execution_count": 38,
   "metadata": {},
   "outputs": [],
   "source": [
    "def XOR(x,y):\n",
    "    return x + y - 2*x*y"
   ]
  },
  {
   "cell_type": "markdown",
   "metadata": {},
   "source": [
    "$\\texttt{XOR}(x,y) = x + y - 2xy$"
   ]
  },
  {
   "cell_type": "code",
   "execution_count": 41,
   "metadata": {},
   "outputs": [],
   "source": [
    "def HA(x,y):\n",
    "    return AND(x,y), XOR(x,y)"
   ]
  },
  {
   "cell_type": "markdown",
   "metadata": {},
   "source": [
    "$\\texttt{HA}(x,y) = (xy,\\text{ } x+y-2xy)$"
   ]
  },
  {
   "cell_type": "code",
   "execution_count": 217,
   "metadata": {},
   "outputs": [],
   "source": [
    "def op(k):\n",
    "    global D\n",
    "    return (k+D)%(2*D)\n",
    "\n",
    "def d(k,t):\n",
    "    global q\n",
    "    if (t==1) & (k in [0,1]):\n",
    "        return q[k]\n",
    "    elif (t==1) & (k not in [0,1]):\n",
    "        return 0\n",
    "    else:\n",
    "        return q[4+k-6]"
   ]
  },
  {
   "cell_type": "markdown",
   "metadata": {},
   "source": [
    "bitstrings: left-indexed\n",
    "\n",
    "$k_o = (k+D) \\text{ mod } (2D)$\n",
    "\n",
    "2D:\n",
    "\n",
    "$d_k^t = \n",
    "\\cases{\n",
    "q_k        & $t=1, k \\in \\{0,1\\}$ \\cr\n",
    "0          & $t=1, k \\not\\in \\{0,1\\}$ \\cr\n",
    "q_{4t+k-6} & else\n",
    "}$"
   ]
  },
  {
   "cell_type": "code",
   "execution_count": null,
   "metadata": {},
   "outputs": [],
   "source": [
    "# return sum string from list of bits\n",
    "# this circuit does not include the quasilinear optimization\n",
    "def S(lst, verbose=False): \n",
    "    len_out = int(np.ceil(np.log2(len(lst)+1)))\n",
    "    for i in range(len(lst)-1):\n",
    "        start = len(lst) - i%2\n",
    "        stop = start-i-1\n",
    "        for j in range(start,stop,-2):\n",
    "            if verbose:\n",
    "                print(i*' ', j,j-1)\n",
    "            lst[j-1],lst[j-2] = HA(lst[j-1],lst[j-2])\n",
    "            \n",
    "    for i in reversed(range(len(lst)-2)):\n",
    "        start = len(lst) - i%2\n",
    "        stop = start-i-1\n",
    "        for j in range(start,stop,-2):\n",
    "            if verbose:\n",
    "                print(i*' ', j,j-1)\n",
    "            lst[j-1],lst[j-2] = HA(lst[j-1],lst[j-2])\n",
    "    return lst[:len_out]"
   ]
  },
  {
   "cell_type": "markdown",
   "metadata": {},
   "source": [
    "![adder](images/adder.png)"
   ]
  },
  {
   "cell_type": "code",
   "execution_count": 2,
   "metadata": {},
   "outputs": [],
   "source": [
    "def s(k,r,i,ii):\n",
    "    lst = [d(k,t) for t in range(4)]\n",
    "    return S(lst)[r-1]"
   ]
  },
  {
   "cell_type": "markdown",
   "metadata": {},
   "source": [
    "$s_k^r(i,i') = r^{th} \\text{digit of} \\sum_{p=i}^{i'-1} d_k^p$\n",
    "\n",
    "$\\begin{array}{rl}\n",
    "r & \\text{sumstring index}\\\\\n",
    "p & \\text{'rightmost' 0 in the odd, lesser sum string}\\\\\n",
    "\\end{array}$\n",
    "- sum strings (*Babbush2013: 2.3.1*): \n",
    "    - ancilla qubits?\n",
    "    - $1 \\le i \\lt i' \\le N$\n",
    "    - len $log_2(i' - i)$"
   ]
  },
  {
   "cell_type": "markdown",
   "metadata": {},
   "source": [
    "-----------\n",
    "-----------\n",
    "## $H_{overlap}$"
   ]
  },
  {
   "cell_type": "code",
   "execution_count": 155,
   "metadata": {},
   "outputs": [],
   "source": [
    "def h_overlap(i,ii):\n",
    "    global D\n",
    "    return np.prod([XNOR(s(k,r,i,ii),s(op(k),r,i,ii)) \n",
    "                   for k in inc(1,D) for r in inc(1,np.ceil(np.log2(ii-i)))])"
   ]
  },
  {
   "cell_type": "markdown",
   "metadata": {},
   "source": [
    "$h_{overlap}(i,i') = \\prod_{k=1}^{D} \\prod_{r=1}^{\\lceil log_2(i'-i) \\rceil} \\texttt{XNOR}(s_k^r(i,i'),s_{k_o}^r(i,i'))$"
   ]
  },
  {
   "cell_type": "code",
   "execution_count": 137,
   "metadata": {},
   "outputs": [],
   "source": [
    "def H_overlap(lambda_overlap):\n",
    "    global N\n",
    "    return lambda_overlap * sum(h_overlap(i,i+2*ii) for i in inc(0,N-3) for ii in inc(1,np.floor(0.5*(N-i-1))))"
   ]
  },
  {
   "cell_type": "markdown",
   "metadata": {},
   "source": [
    "$\\boxed{\n",
    "H_{overlap} = \\lambda_{overlap} \\sum_{i=0}^{N-3} \\sum_{i'=1}^{\\lfloor \\frac{1}{2}(N-i-1) \\rfloor} h_{overlap}(i,i+2i')\n",
    "}$\n",
    "- To set $\\lambda_{overlap}$, see [*Babbush2013: 7.2.4*](https://arxiv.org/pdf/1211.3422.pdf)"
   ]
  },
  {
   "cell_type": "markdown",
   "metadata": {},
   "source": [
    "## $H_{pair}$"
   ]
  },
  {
   "cell_type": "code",
   "execution_count": null,
   "metadata": {},
   "outputs": [],
   "source": [
    "def t120(k,i,ii,p):\n",
    "    return XOR(s(k,p-1,i,ii),s(k,p,i,ii))"
   ]
  },
  {
   "cell_type": "markdown",
   "metadata": {},
   "source": [
    "$t_{120}(k,i,i',p) = \\texttt{XOR}(s_{k}^{p-1}(i,i'),s_{k}^p(i,i'))$"
   ]
  },
  {
   "cell_type": "code",
   "execution_count": null,
   "metadata": {},
   "outputs": [],
   "source": [
    "def t121(k,i,ii,p):\n",
    "    return np.prod([XNOR(s(k,r,i,ii),s(k,r+1,i,ii))\n",
    "                    for r in inc(1,p-2)])"
   ]
  },
  {
   "cell_type": "markdown",
   "metadata": {},
   "source": [
    "$t_{121}(k,i,i',p) = \\prod_{r=1}^{p-2} \\texttt{XNOR}(s_{k}^r(i,i'),s_{k}^{r+1}(i,i'))$"
   ]
  },
  {
   "cell_type": "code",
   "execution_count": null,
   "metadata": {},
   "outputs": [],
   "source": [
    "def t122(k,i,ii,p):\n",
    "    return np.prod([XOR(s(k,r,i,ii),s(op(k),r,i,ii))\n",
    "                    for r in inc(1,p)])"
   ]
  },
  {
   "cell_type": "markdown",
   "metadata": {},
   "source": [
    "$t_{122}(k,i,i',p) = \\prod_{r=1}^p \\texttt{XOR}(s_{k}^r(i,i'),s_{k_{o}}^r(i,i'))$"
   ]
  },
  {
   "cell_type": "code",
   "execution_count": null,
   "metadata": {},
   "outputs": [],
   "source": [
    "def t123(k,i,ii,p):\n",
    "    return np.prod([XNOR(s(k,r,i,ii),s(op(k),r,i,ii))\n",
    "                    for r in inc(p+1,np.ceil(np.log2(ii-i)))])"
   ]
  },
  {
   "cell_type": "markdown",
   "metadata": {},
   "source": [
    "$t_{123}(k,i,i',p) = \\prod_{r=p+1}^{\\lceil log_2(i'-i) \\rceil} \\texttt{XNOR}(s_{k}^r(i,i'),s_{k_{o}}^r(i,i'))$"
   ]
  },
  {
   "cell_type": "markdown",
   "metadata": {},
   "source": [
    "-----"
   ]
  },
  {
   "cell_type": "code",
   "execution_count": null,
   "metadata": {},
   "outputs": [],
   "source": [
    "def t10(k,i,ii):\n",
    "    return XOR(s(k,1,i,ii),s(op(k),1,i,ii))"
   ]
  },
  {
   "cell_type": "markdown",
   "metadata": {},
   "source": [
    "$t_{10}(k,i,i') = \\texttt{XOR}(s_{k}^1(i,i'),s_{k_o}^1(i,i'))$"
   ]
  },
  {
   "cell_type": "code",
   "execution_count": null,
   "metadata": {},
   "outputs": [],
   "source": [
    "def t11(k,i,ii):\n",
    "    return np.prod([XNOR(s(k,r,i,ii),s(op(k),r,i,ii))\n",
    "                    for r in inc(2,np.ceil(np.log2(ii-i)))])"
   ]
  },
  {
   "cell_type": "markdown",
   "metadata": {},
   "source": [
    "$t_{11}(k,i,i') = \\prod_{r=2}^{\\lceil log_2(i'-i) \\rceil}\\texttt{XNOR}(s_{k}^r(i,i'),s_{k_o}^r(i,i'))$"
   ]
  },
  {
   "cell_type": "code",
   "execution_count": null,
   "metadata": {},
   "outputs": [],
   "source": [
    "def t12(k,i,ii):\n",
    "    return sum(t120(k,i,ii,p) * t121(k,i,ii,p) * t122(k,i,ii,p) * t123(k,i,ii,p) for p in inc(2,np.ceil(np.log2(ii-i)))) "
   ]
  },
  {
   "cell_type": "markdown",
   "metadata": {},
   "source": [
    "$t_{12}(k,i,i') = \\sum_{p=2}^{\\lceil log_2(i'-i) \\rceil} t_{120}(k,i,i') * t_{121}(k,i,i')* t_{122}(k,i,i')* t_{123}(k,i,i')$"
   ]
  },
  {
   "cell_type": "markdown",
   "metadata": {},
   "source": [
    "----"
   ]
  },
  {
   "cell_type": "code",
   "execution_count": null,
   "metadata": {},
   "outputs": [],
   "source": [
    "def t0(k,i,ii):\n",
    "    kk_lst = [kk for kk in range(2*D) if kk != k]\n",
    "    return np.prod([XNOR(s(kk,r,i,ii),s(op(kk),r,i,ii)) \n",
    "                   for kk in kk_lst for r in inc(1,np.ceil(np.log2(ii-i)))])"
   ]
  },
  {
   "cell_type": "markdown",
   "metadata": {},
   "source": [
    "$t_0(k,i,i') = \\prod_{k'\\neq k} \\prod_{r=1}^{\\lceil log_2(i'-i) \\rceil} \\texttt{XNOR}(s_{k'}^r(i,i'),s_{k_o'}^r(i,i'))$"
   ]
  },
  {
   "cell_type": "code",
   "execution_count": null,
   "metadata": {},
   "outputs": [],
   "source": [
    "def t1(k,i,ii):\n",
    "    return t10(k,i,ii) * t11(k,i,ii) + t12(k,i,ii)"
   ]
  },
  {
   "cell_type": "markdown",
   "metadata": {},
   "source": [
    "$t_1(k,i,i') = t_{10}(k,i,i') * t_{11}(k,i,i') + t_{12}(k,i,i')$"
   ]
  },
  {
   "cell_type": "markdown",
   "metadata": {},
   "source": [
    "----"
   ]
  },
  {
   "cell_type": "code",
   "execution_count": null,
   "metadata": {},
   "outputs": [],
   "source": [
    "def a(k,i,ii):\n",
    "    return t0(k,i,ii)*t1(k,i,ii)"
   ]
  },
  {
   "cell_type": "markdown",
   "metadata": {},
   "source": [
    "$a_k(i,i') = t_0(k,i,i') * t_1(k,i,i')$\n",
    "\n",
    "![](images/adjacency.png)"
   ]
  },
  {
   "cell_type": "markdown",
   "metadata": {},
   "source": [
    "----"
   ]
  },
  {
   "cell_type": "code",
   "execution_count": 222,
   "metadata": {},
   "outputs": [],
   "source": [
    "def H_pair(P):\n",
    "    global N\n",
    "    global D\n",
    "    return sum(P[i -1,1+i+2*ii -1] * sum(a(k,i,1+i+2*ii) for k in inc(1,D)) for i in inc(1,N-3) for ii in inc(1,np.floor(0.5*(N-i-1))))"
   ]
  },
  {
   "cell_type": "markdown",
   "metadata": {},
   "source": [
    "$\\boxed{H_{pair} = \\sum_{i=1}^{N-3} \\sum_{i'=1}^{\\lfloor \\frac{1}{2}(N-i-1)\\rfloor} P_{i,1+i+2i'} \\sum_{k=1}^{D} a_k(i,1+i+2i')}$\n",
    "- [*Fingerhuth 2018*](https://arxiv.org/pdf/1810.13411.pdf) is missing floor, has lower case $N$ in first sum\n",
    "- [*Babbush 2013*, eqn (40)](https://arxiv.org/pdf/1211.3422.pdf)"
   ]
  },
  {
   "cell_type": "markdown",
   "metadata": {},
   "source": [
    "# $H_{cost}$"
   ]
  },
  {
   "cell_type": "code",
   "execution_count": 3,
   "metadata": {},
   "outputs": [],
   "source": [
    "# YY\n",
    "def H_cost(lambda_overlap,P):\n",
    "    return H_overlap(lambda_overlap) + H_pair(P)"
   ]
  },
  {
   "cell_type": "markdown",
   "metadata": {},
   "source": [
    "$\\boxed{H_{cost} = H_{overlap} + H_{pair}}$"
   ]
  },
  {
   "cell_type": "markdown",
   "metadata": {},
   "source": [
    "-----------\n",
    "-----------\n",
    "# $H_{mixer}$ Variants:"
   ]
  },
  {
   "cell_type": "code",
   "execution_count": 1,
   "metadata": {},
   "outputs": [],
   "source": [
    "def X_mixer():\n",
    "    global n\n",
    "    return sum(sX(i) for i in range(0,n))"
   ]
  },
  {
   "cell_type": "markdown",
   "metadata": {},
   "source": [
    "$\\boxed{X_{mixer} = \\sum_{i} X_i}$"
   ]
  },
  {
   "cell_type": "markdown",
   "metadata": {},
   "source": [
    "----"
   ]
  },
  {
   "cell_type": "code",
   "execution_count": 10,
   "metadata": {},
   "outputs": [],
   "source": [
    "def XY(i,ii):\n",
    "    return 0.5*(sX(i)*sX(ii) + sY(i)*sY(ii))"
   ]
  },
  {
   "cell_type": "markdown",
   "metadata": {},
   "source": [
    "$\\texttt{XY}_{i,i'} = \\frac{1}{2}(X_i X_{i'} + Y_i Y_{i'})$\n",
    "- has similar properties to a $\\texttt{SWAP}$ gate (actually redefined as $\\texttt{SWAP}$ in *Fingerhuth 2018*)"
   ]
  },
  {
   "cell_type": "code",
   "execution_count": null,
   "metadata": {},
   "outputs": [],
   "source": [
    "def M(t):\n",
    "    global n\n",
    "    return sum(XY(i,ii) for i in inc(0,n-2) for ii in inc(i+1, n-1))"
   ]
  },
  {
   "cell_type": "markdown",
   "metadata": {},
   "source": [
    "$M_t = \\sum_{i=0}^{n-2} \\sum_{i'=i+1}^{n-1} \\texttt{XY}_{i,i'}$"
   ]
  },
  {
   "cell_type": "code",
   "execution_count": 1,
   "metadata": {},
   "outputs": [],
   "source": [
    "def XY_simple():\n",
    "    global N\n",
    "    return sum(M(t) for t in inc(1,N-2))"
   ]
  },
  {
   "cell_type": "markdown",
   "metadata": {},
   "source": [
    "$\\boxed{XY_{simple} = \\sum_{t=1}^{N-2} M_t}$"
   ]
  }
 ],
 "metadata": {
  "kernelspec": {
   "display_name": "quant",
   "language": "python",
   "name": "quant"
  },
  "language_info": {
   "codemirror_mode": {
    "name": "ipython",
    "version": 3
   },
   "file_extension": ".py",
   "mimetype": "text/x-python",
   "name": "python",
   "nbconvert_exporter": "python",
   "pygments_lexer": "ipython3",
   "version": "3.6.5"
  }
 },
 "nbformat": 4,
 "nbformat_minor": 2
}
